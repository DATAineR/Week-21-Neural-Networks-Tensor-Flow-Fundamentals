{
 "cells": [
  {
   "cell_type": "markdown",
   "id": "666290b6-226d-4b4a-aa3e-51e335a0e412",
   "metadata": {},
   "source": [
    "Q1. What is different data structures used in Tensorflow ? Give some examples"
   ]
  },
  {
   "cell_type": "markdown",
   "id": "4aabc575-362c-419e-b1d0-0ccf73106228",
   "metadata": {},
   "source": [
    " TensorFlow, a popular open-source machine learning framework, provides several different data structures to efficiently handle and manipulate data for building and training machine learning models. Some of the key data structures used in TensorFlow include:\n",
    "\n",
    "1. `Tensors` : Tensors are the fundamental building blocks in TensorFlow. They are n-dimensional arrays that represent the data in the computation graph. Tensors can be scalars (0-dimensional), vectors (1-dimensional), matrices (2-dimensional), or higher-dimensional arrays. TensorFlow tensors can be created using functions like tf.constant(), tf.Variable(), and by performing various operations on existing tensors."
   ]
  },
  {
   "cell_type": "code",
   "execution_count": 1,
   "id": "f934e1cb-9ab2-4a32-8d92-8bfc0ad88c0e",
   "metadata": {},
   "outputs": [
    {
     "name": "stdout",
     "output_type": "stream",
     "text": [
      "WARNING:tensorflow:From C:\\Users\\tamra\\anaconda3\\Lib\\site-packages\\keras\\src\\losses.py:2976: The name tf.losses.sparse_softmax_cross_entropy is deprecated. Please use tf.compat.v1.losses.sparse_softmax_cross_entropy instead.\n",
      "\n"
     ]
    }
   ],
   "source": [
    "import tensorflow as tf\n",
    "\n",
    "# Creating tensors\n",
    "scalar = tf.constant(5)\n",
    "vector = tf.constant([1, 2, 3])\n",
    "matrix = tf.constant([[1, 2], [3, 4]])"
   ]
  },
  {
   "cell_type": "code",
   "execution_count": 2,
   "id": "89ea96ba-cf75-4240-88fe-5f33cc225ed4",
   "metadata": {},
   "outputs": [
    {
     "data": {
      "text/plain": [
       "<tf.Tensor: shape=(), dtype=int32, numpy=5>"
      ]
     },
     "execution_count": 2,
     "metadata": {},
     "output_type": "execute_result"
    }
   ],
   "source": [
    "scalar"
   ]
  },
  {
   "cell_type": "code",
   "execution_count": 3,
   "id": "5703fba0-21cf-484a-b1f6-5cd5a6215908",
   "metadata": {},
   "outputs": [
    {
     "data": {
      "text/plain": [
       "<tf.Tensor: shape=(3,), dtype=int32, numpy=array([1, 2, 3])>"
      ]
     },
     "execution_count": 3,
     "metadata": {},
     "output_type": "execute_result"
    }
   ],
   "source": [
    "vector"
   ]
  },
  {
   "cell_type": "code",
   "execution_count": 4,
   "id": "34c0c6e3-f1f6-400e-a5ac-78bbc5a735e8",
   "metadata": {},
   "outputs": [
    {
     "data": {
      "text/plain": [
       "<tf.Tensor: shape=(2, 2), dtype=int32, numpy=\n",
       "array([[1, 2],\n",
       "       [3, 4]])>"
      ]
     },
     "execution_count": 4,
     "metadata": {},
     "output_type": "execute_result"
    }
   ],
   "source": [
    "matrix"
   ]
  },
  {
   "cell_type": "markdown",
   "id": "37bd6bc6-f9c6-4219-9b26-d36be79f9b87",
   "metadata": {},
   "source": [
    "2. `Variables`: TensorFlow Variables are special tensors that can hold mutable state. They are often used to store model parameters that need to be learned during training. Variables are typically initialized with some initial values and then updated through operations."
   ]
  },
  {
   "cell_type": "code",
   "execution_count": 5,
   "id": "38f468c9-121e-4028-9ebb-6b95ffa87d6e",
   "metadata": {},
   "outputs": [],
   "source": [
    "# Creating a variable\n",
    "initial_value = tf.random.normal(shape=(3, 3))\n",
    "model_weights = tf.Variable(initial_value)"
   ]
  },
  {
   "cell_type": "code",
   "execution_count": 6,
   "id": "f1ccd63b-542c-4f77-a5bb-f838c264a9f2",
   "metadata": {},
   "outputs": [
    {
     "data": {
      "text/plain": [
       "<tf.Tensor: shape=(3, 3), dtype=float32, numpy=\n",
       "array([[ 0.8413498 , -0.72720546, -1.1267401 ],\n",
       "       [ 0.40346748, -1.9188251 ,  0.09752513],\n",
       "       [ 0.96023303, -1.4464837 ,  0.55354476]], dtype=float32)>"
      ]
     },
     "execution_count": 6,
     "metadata": {},
     "output_type": "execute_result"
    }
   ],
   "source": [
    "initial_value"
   ]
  },
  {
   "cell_type": "code",
   "execution_count": 7,
   "id": "2c912076-57b6-4706-88f1-a7ee34d22acd",
   "metadata": {},
   "outputs": [
    {
     "data": {
      "text/plain": [
       "<tf.Variable 'Variable:0' shape=(3, 3) dtype=float32, numpy=\n",
       "array([[ 0.8413498 , -0.72720546, -1.1267401 ],\n",
       "       [ 0.40346748, -1.9188251 ,  0.09752513],\n",
       "       [ 0.96023303, -1.4464837 ,  0.55354476]], dtype=float32)>"
      ]
     },
     "execution_count": 7,
     "metadata": {},
     "output_type": "execute_result"
    }
   ],
   "source": [
    "model_weights"
   ]
  },
  {
   "cell_type": "markdown",
   "id": "55ef5c79-1923-4ecc-9028-03aa1da7345f",
   "metadata": {},
   "source": [
    "3. `Constants`: Constants are tensors with fixed values that remain unchanged throughout the computation. They are often used for providing constant inputs or values to the computation graph."
   ]
  },
  {
   "cell_type": "code",
   "execution_count": 9,
   "id": "38e9ef17-12f1-4ec7-ae7f-e17b30ca09de",
   "metadata": {},
   "outputs": [],
   "source": [
    "# Creating a constant\n",
    "pi = tf.constant(3.14159)"
   ]
  },
  {
   "cell_type": "code",
   "execution_count": 10,
   "id": "f051f165-a41f-4f4e-94a2-6ffe657187ff",
   "metadata": {},
   "outputs": [
    {
     "data": {
      "text/plain": [
       "<tf.Tensor: shape=(), dtype=float32, numpy=3.14159>"
      ]
     },
     "execution_count": 10,
     "metadata": {},
     "output_type": "execute_result"
    }
   ],
   "source": [
    "pi"
   ]
  },
  {
   "cell_type": "markdown",
   "id": "a1f2b4dd-ec1a-45a8-80c4-5821a2cb3805",
   "metadata": {},
   "source": [
    "4. `Placeholders (Deprecated)`: In older versions of TensorFlow (before TensorFlow 2.0), placeholders were used to feed data into the computation graph during training. However, placeholders have been deprecated in favor of the new tf.data API and eager execution in TensorFlow 2.0 and later.\n",
    "\n",
    "5. `Sparse Tensors`: Sparse tensors are designed to efficiently represent tensors with a large number of zero elements. They are useful for tasks involving sparse data, such as natural language processing or certain types of neural networks."
   ]
  },
  {
   "cell_type": "code",
   "execution_count": 11,
   "id": "5ba55769-5985-4f83-a7df-c8e3edf7b907",
   "metadata": {},
   "outputs": [],
   "source": [
    "indices = [[0, 1], [1, 2]]\n",
    "values = [1, 2]\n",
    "shape = [3, 4]\n",
    "sparse_tensor = tf.SparseTensor(indices, values, shape)"
   ]
  },
  {
   "cell_type": "code",
   "execution_count": 12,
   "id": "d936abee-2d63-4ddd-968d-87e22a0bcced",
   "metadata": {},
   "outputs": [
    {
     "data": {
      "text/plain": [
       "SparseTensor(indices=tf.Tensor(\n",
       "[[0 1]\n",
       " [1 2]], shape=(2, 2), dtype=int64), values=tf.Tensor([1 2], shape=(2,), dtype=int32), dense_shape=tf.Tensor([3 4], shape=(2,), dtype=int64))"
      ]
     },
     "execution_count": 12,
     "metadata": {},
     "output_type": "execute_result"
    }
   ],
   "source": [
    "sparse_tensor"
   ]
  },
  {
   "cell_type": "markdown",
   "id": "69aac3d8-f651-4fa9-a05f-be8d99900330",
   "metadata": {},
   "source": [
    "6. `Ragged Tensors`: Ragged tensors are used to represent tensors with varying lengths along one or more dimensions. They are useful for sequences or nested data structures."
   ]
  },
  {
   "cell_type": "code",
   "execution_count": 13,
   "id": "132a43a5-064b-4e15-b8fc-0bcb6de22a50",
   "metadata": {},
   "outputs": [],
   "source": [
    "# Creating a ragged tensor\n",
    "values = tf.ragged.constant([[1, 2], [3, 4, 5], [6]])"
   ]
  },
  {
   "cell_type": "code",
   "execution_count": 14,
   "id": "46504326-0f3c-4580-a616-dc87cc4c1e77",
   "metadata": {},
   "outputs": [
    {
     "data": {
      "text/plain": [
       "<tf.RaggedTensor [[1, 2], [3, 4, 5], [6]]>"
      ]
     },
     "execution_count": 14,
     "metadata": {},
     "output_type": "execute_result"
    }
   ],
   "source": [
    "values"
   ]
  },
  {
   "cell_type": "markdown",
   "id": "fdd21165-34ae-4ec9-9653-38d23e15eb3c",
   "metadata": {},
   "source": [
    "7. `TensorArray`: TensorArray is a dynamic data structure that allows you to store tensors of different shapes and sizes. It's often used in dynamic loop constructs."
   ]
  },
  {
   "cell_type": "code",
   "execution_count": 15,
   "id": "7478ed24-c3ee-4f78-9d60-f395dc5c1493",
   "metadata": {},
   "outputs": [],
   "source": [
    "# Creating a TensorArray\n",
    "ta = tf.TensorArray(dtype=tf.float32, size=0, dynamic_size=True)"
   ]
  },
  {
   "cell_type": "code",
   "execution_count": 16,
   "id": "ebf3c070-30e0-40b5-be8f-f3492217a5c9",
   "metadata": {},
   "outputs": [
    {
     "data": {
      "text/plain": [
       "<tensorflow.python.ops.tensor_array_ops.TensorArray at 0x2761579af90>"
      ]
     },
     "execution_count": 16,
     "metadata": {},
     "output_type": "execute_result"
    }
   ],
   "source": [
    "ta"
   ]
  },
  {
   "cell_type": "markdown",
   "id": "e4b9796c-b333-4807-9389-069c70ef6758",
   "metadata": {},
   "source": [
    "These are some of the key data structures used in TensorFlow. TensorFlow's flexible and powerful data structure system allows developers to efficiently build and train a wide variety of machine learning models"
   ]
  },
  {
   "cell_type": "markdown",
   "id": "9e4133a8-28cc-47ac-9b58-0b21b841b518",
   "metadata": {},
   "source": [
    "Q2. How does TensorFlow constant differ from TensorFlow Variable? Explain with example"
   ]
  },
  {
   "cell_type": "markdown",
   "id": "0fb15c4e-527d-4cfb-b45d-0b45b8a1f783",
   "metadata": {},
   "source": [
    " Both TensorFlow constants and variables are fundamental data structures, but they have different purposes and behaviors within a TensorFlow computation graph.\n",
    "\n",
    " TensorFlow Constants:\n",
    "- Constants are tensors with fixed values that remain unchanged throughout the computation.\n",
    "- They are typically used to provide inputs or fixed values to the computation graph.\n",
    "- Constants cannot be modified or updated after they are created.\n",
    "\n",
    " TensorFlow Variables:\n",
    "- Variables are tensors that hold mutable state, often used for model parameters that need to be learned during training.\n",
    "- They are initialized with initial values and can be updated through operations like assignments.\n",
    "- Variables can be used to store and update values as the model iteratively adjusts its parameters during training.\n",
    "\n",
    "Let's illustrate the difference with examples:"
   ]
  },
  {
   "cell_type": "markdown",
   "id": "e7ecb711-9bd8-4c9c-bed0-308ceda982e2",
   "metadata": {},
   "source": [
    "**Example of TensorFlow Constant:**"
   ]
  },
  {
   "cell_type": "code",
   "execution_count": 17,
   "id": "021e8fff-d6b7-476d-809f-086adfe04459",
   "metadata": {},
   "outputs": [
    {
     "name": "stdout",
     "output_type": "stream",
     "text": [
      "Error: 'tensorflow.python.framework.ops.EagerTensor' object has no attribute 'assign'\n"
     ]
    }
   ],
   "source": [
    "import tensorflow as tf\n",
    "\n",
    "# Creating a constant\n",
    "a = tf.constant(5)\n",
    "\n",
    "# Attempting to assign a new value to a constant will result in an error\n",
    "try:\n",
    "    a.assign(8)  # This will raise an error\n",
    "except Exception as e:\n",
    "    print(\"Error:\", e)"
   ]
  },
  {
   "cell_type": "markdown",
   "id": "d70b362d-ddad-4d1c-a8fb-c2011e23e478",
   "metadata": {},
   "source": [
    "**Example of TensorFlow Variable:**"
   ]
  },
  {
   "cell_type": "code",
   "execution_count": 18,
   "id": "ab7cf07a-b50a-4832-9b65-dac534c192bf",
   "metadata": {},
   "outputs": [
    {
     "name": "stdout",
     "output_type": "stream",
     "text": [
      "Initial 'b': <tf.Variable 'Variable:0' shape=(3, 3) dtype=float32, numpy=\n",
      "array([[-0.4613909 ,  2.0059166 , -1.5367315 ],\n",
      "       [-0.9350339 , -0.1494009 , -0.75777304],\n",
      "       [ 1.7742605 , -1.3144952 ,  0.44832447]], dtype=float32)>\n",
      "\n",
      "Updated 'b': <tf.Variable 'Variable:0' shape=(3, 3) dtype=float32, numpy=\n",
      "array([[-0.9031939 , -1.3594843 , -0.712509  ],\n",
      "       [ 0.77699286,  1.8777095 ,  1.1239021 ],\n",
      "       [ 0.96394885, -0.3783388 ,  0.13962121]], dtype=float32)>\n"
     ]
    }
   ],
   "source": [
    "import tensorflow as tf\n",
    "\n",
    "# Creating a variable with an initial value\n",
    "initial_value = tf.random.normal(shape=(3, 3))\n",
    "b = tf.Variable(initial_value)\n",
    "\n",
    "print(\"Initial 'b':\",b)\n",
    "\n",
    "# Assigning a new value to the variable using the assign() operation\n",
    "new_value = tf.random.normal(shape=(3, 3))\n",
    "b.assign(new_value)\n",
    "\n",
    "# Now 'b' holds the new value assigned to it\n",
    "print(\"\\nUpdated 'b':\", b)"
   ]
  },
  {
   "cell_type": "markdown",
   "id": "417f1ec0-ae42-44b2-ab14-c71db329ecf6",
   "metadata": {},
   "source": [
    " In the second example, you can see that a TensorFlow variable b is created with an initial value. Unlike constants, variables can be assigned new values using the assign() operation. This capability is crucial during the training process, where model parameters (weights and biases) are updated iteratively to minimize the loss function.\n",
    "\n",
    " In summary, constants are used to provide fixed inputs or values, while variables are used to hold and update mutable state, often representing model parameters.\n"
   ]
  },
  {
   "cell_type": "markdown",
   "id": "13af69c3-a7a5-4821-98b8-3bf7ccdb8773",
   "metadata": {},
   "source": [
    "Q3. Describe the process of matrix addition, multiplication and element wise operations in Tensorflow."
   ]
  },
  {
   "cell_type": "markdown",
   "id": "b10f4c21-9b4f-499b-8a9c-bc8ed113134b",
   "metadata": {},
   "source": [
    " 1.Matrix Addition:\n",
    "\n",
    "Matrix addition is a basic arithmetic operation where corresponding elements of two matrices are added together to create a new matrix of the same dimensions. In TensorFlow, you can perform matrix addition using the tf.add() function or by using the + operator."
   ]
  },
  {
   "cell_type": "code",
   "execution_count": 19,
   "id": "e5cd5eff-0868-42e5-ba51-897f542a7e8a",
   "metadata": {},
   "outputs": [
    {
     "name": "stdout",
     "output_type": "stream",
     "text": [
      "Matrix Addition Result:\n",
      "[[ 6  8]\n",
      " [10 12]]\n",
      "[[ 6  8]\n",
      " [10 12]]\n"
     ]
    }
   ],
   "source": [
    "import tensorflow as tf\n",
    "\n",
    "# Define two matrices\n",
    "matrix_a = tf.constant([[1, 2], [3, 4]])\n",
    "matrix_b = tf.constant([[5, 6], [7, 8]])\n",
    "\n",
    "# Perform matrix addition\n",
    "result = tf.add(matrix_a, matrix_b)\n",
    "\n",
    "# Alternatively, you can use the + operator\n",
    "result_alternative = matrix_a + matrix_b\n",
    "\n",
    "print(\"Matrix Addition Result:\")\n",
    "print(result.numpy())\n",
    "print(result_alternative.numpy())"
   ]
  },
  {
   "cell_type": "markdown",
   "id": "6fabbfcb-56e0-4e94-bbcc-332d0b0b17e2",
   "metadata": {},
   "source": [
    " 2. Matrix Multiplication:\n",
    "\n",
    "Matrix multiplication is a more complex operation where the dot product of rows and columns of two matrices results in a new matrix. TensorFlow provides the tf.matmul() function to perform matrix multiplication."
   ]
  },
  {
   "cell_type": "code",
   "execution_count": 20,
   "id": "3d1e27a7-336c-44e4-977f-5faf1453eca2",
   "metadata": {},
   "outputs": [
    {
     "name": "stdout",
     "output_type": "stream",
     "text": [
      "Matrix Multiplication Result:\n",
      "[[19 22]\n",
      " [43 50]]\n"
     ]
    }
   ],
   "source": [
    "import tensorflow as tf\n",
    "\n",
    "# Define two matrices\n",
    "matrix_a = tf.constant([[1, 2], [3, 4]])\n",
    "matrix_b = tf.constant([[5, 6], [7, 8]])\n",
    "\n",
    "# Perform matrix multiplication\n",
    "result = tf.matmul(matrix_a, matrix_b)\n",
    "\n",
    "print(\"Matrix Multiplication Result:\")\n",
    "print(result.numpy())"
   ]
  },
  {
   "cell_type": "markdown",
   "id": "24d077ee-aa49-4d26-a275-93b3be071280",
   "metadata": {},
   "source": [
    " 3. Element-wise Operations:\n",
    "\n",
    "Element-wise operations involve applying an operation to each corresponding element of two matrices (or a matrix and a scalar). TensorFlow allows you to perform a variety of element-wise operations, such as addition, subtraction, multiplication, division, and more."
   ]
  },
  {
   "cell_type": "code",
   "execution_count": 21,
   "id": "8c64d3ef-4ac9-4007-95a5-6e853c5171c2",
   "metadata": {},
   "outputs": [
    {
     "name": "stdout",
     "output_type": "stream",
     "text": [
      "Element-wise Addition Result:\n",
      "[[3 4]\n",
      " [5 6]]\n",
      "Element-wise Multiplication Result:\n",
      "[[2 4]\n",
      " [6 8]]\n"
     ]
    }
   ],
   "source": [
    "import tensorflow as tf\n",
    "\n",
    "# Define a matrix and a scalar\n",
    "matrix = tf.constant([[1, 2], [3, 4]])\n",
    "scalar = 2\n",
    "\n",
    "# Perform element-wise addition\n",
    "result_add = matrix + scalar\n",
    "\n",
    "# Perform element-wise multiplication\n",
    "result_multiply = matrix * scalar\n",
    "\n",
    "print(\"Element-wise Addition Result:\")\n",
    "print(result_add.numpy())\n",
    "\n",
    "print(\"Element-wise Multiplication Result:\")\n",
    "print(result_multiply.numpy())"
   ]
  },
  {
   "cell_type": "markdown",
   "id": "0d40a3ae-5fb8-46b5-9c38-9435e010dc78",
   "metadata": {},
   "source": [
    " In TensorFlow, these operations are efficiently handled using optimized numerical libraries, such as Intel MKL and NVIDIA cuBLAS, for CPU and GPU computation, respectively. These libraries allow TensorFlow to take advantage of hardware acceleration for faster computation.\n",
    "\n",
    " Remember that proper matrix dimensions and compatibility are crucial for matrix multiplication. The number of columns in the first matrix must match the number of rows in the second matrix for successful matrix multiplication. Element-wise operations require matrices or tensors to have the same shape or be broadcastable.\n"
   ]
  },
  {
   "cell_type": "markdown",
   "id": "94abd746-037b-4c04-9e6d-818e01efb430",
   "metadata": {},
   "source": [
    "# Task 1 : Creating and Manipulating matrices\n",
    "---"
   ]
  },
  {
   "cell_type": "markdown",
   "id": "77262ed5-7d76-4da9-975c-58f89e48c246",
   "metadata": {},
   "source": [
    " Q1. Create a normal matrix A with dimensions 3x3, using Tensorflows random normal function. Display the value of matrix A.\n"
   ]
  },
  {
   "cell_type": "code",
   "execution_count": 22,
   "id": "4b2cacd3-ccc5-435c-a1e2-72f833901635",
   "metadata": {},
   "outputs": [
    {
     "name": "stdout",
     "output_type": "stream",
     "text": [
      "Matrix A:\n",
      "tf.Tensor(\n",
      "[[-0.12878595 -0.7952905  -0.4909222 ]\n",
      " [ 0.7614119  -0.69182414 -0.3676718 ]\n",
      " [-0.85242903  1.3045814   0.60319215]], shape=(3, 3), dtype=float32)\n"
     ]
    }
   ],
   "source": [
    "import tensorflow as tf\n",
    "\n",
    "# Create a 3x3 matrix with random values from a normal distribution\n",
    "A = tf.random.normal(shape=(3, 3))\n",
    "\n",
    "# Display the value of matrix A\n",
    "print(\"Matrix A:\")\n",
    "print(A)"
   ]
  },
  {
   "cell_type": "markdown",
   "id": "8f913b48-14f8-42db-8c5f-8aed610d7bf6",
   "metadata": {},
   "source": [
    " Q2. Create a Gaussian Matrix B with dimension 4X4, using truncated_normal function. Display the values of Matrix B"
   ]
  },
  {
   "cell_type": "code",
   "execution_count": 23,
   "id": "390ef265-ac76-4cef-85d4-17d1a44aa863",
   "metadata": {},
   "outputs": [
    {
     "name": "stdout",
     "output_type": "stream",
     "text": [
      "Matrix B:\n",
      "[[ 0.57944936  0.83754075 -1.2503241  -0.2501042 ]\n",
      " [ 0.5209405  -0.80074704 -0.95108175  0.40057823]\n",
      " [-0.19136126  1.494965   -0.48615545 -1.5545489 ]\n",
      " [ 0.9037276  -0.41530198 -0.5823505   0.45852357]]\n"
     ]
    }
   ],
   "source": [
    "import tensorflow as tf\n",
    "\n",
    "# Define the dimensions of the matrix\n",
    "matrix_shape = (4, 4)\n",
    "\n",
    "# Generate a Gaussian matrix using truncated normal distribution\n",
    "mean = 0\n",
    "stddev = 1\n",
    "B = tf.random.truncated_normal(shape=matrix_shape, mean=mean, stddev=stddev)\n",
    "\n",
    "# Display the generated matrix\n",
    "print(\"Matrix B:\")\n",
    "print(B.numpy())"
   ]
  },
  {
   "cell_type": "markdown",
   "id": "23a4ab94-3e72-482c-a5be-581cd54e8c8b",
   "metadata": {},
   "source": [
    "Q3. Create a Gaussian Matrix C with dimension 2X2, where values are drawn from normal distribution with a mean of 3 and a standard deviation of 0.5, using Tensorflow's random.normal function Display values of matrix C."
   ]
  },
  {
   "cell_type": "code",
   "execution_count": 24,
   "id": "303bfb4f-db0f-4778-95d1-6f6e4b13d295",
   "metadata": {},
   "outputs": [
    {
     "name": "stdout",
     "output_type": "stream",
     "text": [
      "Matrix C:\n",
      "[[3.1594613 2.8762326]\n",
      " [2.970236  3.0399747]]\n"
     ]
    }
   ],
   "source": [
    "import tensorflow as tf\n",
    "\n",
    "# Define the dimensions of the matrix\n",
    "matrix_shape = (2, 2)\n",
    "\n",
    "# Generate a Gaussian matrix using normal distribution\n",
    "mean = 3.0\n",
    "stddev = 0.5\n",
    "C = tf.random.normal(shape=matrix_shape, mean=mean, stddev=stddev)\n",
    "\n",
    "# Display the generated matrix\n",
    "print(\"Matrix C:\")\n",
    "print(C.numpy())"
   ]
  },
  {
   "cell_type": "markdown",
   "id": "cca9e65b-016f-46f6-b00d-5aad30432ec0",
   "metadata": {},
   "source": [
    "Q4. Perform matrix addition between matrix A and matrix B and store the results in matrix D"
   ]
  },
  {
   "cell_type": "markdown",
   "id": "30d35cf8-28f5-42cb-9b26-06d40194e098",
   "metadata": {},
   "source": [
    " Matrix A has shape (3,3) while matrix B has shape(4,4) it is not possible to add these matrices as shapes are different \n",
    "Below is alternate example to show matrix addition"
   ]
  },
  {
   "cell_type": "code",
   "execution_count": 25,
   "id": "5a68d637-f2ac-4d65-924b-b905002bcdcd",
   "metadata": {},
   "outputs": [
    {
     "name": "stdout",
     "output_type": "stream",
     "text": [
      "Matrix 1 :\n",
      " [[ 2.0271592   0.02462468]\n",
      " [ 1.3560923  -1.1124915 ]]\n",
      "\n",
      "Matrix 2 :\n",
      " [[ 0.32210368  0.7543519 ]\n",
      " [-0.9408749   0.7931459 ]]\n",
      "\n",
      "Matrix D :\n",
      " [[ 2.349263    0.7789766 ]\n",
      " [ 0.41521746 -0.3193456 ]]\n"
     ]
    }
   ],
   "source": [
    "matrix1 = tf.random.normal(shape=(2,2))\n",
    "matrix2 = tf.random.normal(shape=(2,2))\n",
    "D = tf.add(matrix1, matrix2)\n",
    "print(f'Matrix 1 :\\n {matrix1.numpy()}')\n",
    "print(f'\\nMatrix 2 :\\n {matrix2.numpy()}')\n",
    "print(f'\\nMatrix D :\\n {D.numpy()}')"
   ]
  },
  {
   "cell_type": "markdown",
   "id": "7592c4c0-b19e-472d-aae2-12a8228b1102",
   "metadata": {},
   "source": [
    "Q5. Perform matrix multiplication between  matrix C and matrix D and store result in matrix E"
   ]
  },
  {
   "cell_type": "code",
   "execution_count": 26,
   "id": "2a805e39-7455-4961-b4c8-88391ebad29c",
   "metadata": {},
   "outputs": [
    {
     "name": "stdout",
     "output_type": "stream",
     "text": [
      "Matrix C :\n",
      "[[3.1594613 2.8762326]\n",
      " [2.970236  3.0399747]]\n",
      "\n",
      "Matrix D :\n",
      "[[ 2.349263    0.7789766 ]\n",
      " [ 0.41521746 -0.3193456 ]]\n",
      "\n",
      "Matrix E = CxD:\n",
      "[[8.616667  1.5426341]\n",
      " [8.240116  1.342942 ]]\n"
     ]
    }
   ],
   "source": [
    "E = tf.matmul(C,D)\n",
    "\n",
    "print(f'Matrix C :\\n{C.numpy()}')\n",
    "print(f'\\nMatrix D :\\n{D.numpy()}')\n",
    "print(f'\\nMatrix E = CxD:\\n{E.numpy()}')"
   ]
  },
  {
   "cell_type": "markdown",
   "id": "3dd3fd76-438c-4c4f-b4d4-6e5472d770cd",
   "metadata": {},
   "source": [
    "# Task 2: Performing additional matrix operations\n",
    "---"
   ]
  },
  {
   "cell_type": "markdown",
   "id": "1d79b24a-e735-470d-969f-534d8068fe93",
   "metadata": {},
   "source": [
    " Q1. Create a matrix F with dimensions 3x3, initialized random values using Tensorflows random_uniform function."
   ]
  },
  {
   "cell_type": "code",
   "execution_count": 27,
   "id": "ca2c31ef-1ba1-492f-b7de-a496029e08b9",
   "metadata": {},
   "outputs": [
    {
     "name": "stdout",
     "output_type": "stream",
     "text": [
      "Matrix F :\n",
      "[[0.7161889  0.9685426  0.65072393]\n",
      " [0.23425353 0.46993876 0.67918766]\n",
      " [0.5132922  0.14257002 0.5605091 ]]\n"
     ]
    }
   ],
   "source": [
    "# Create a matrix F\n",
    "F = tf.random.uniform(shape=(3,3))\n",
    "print(f'Matrix F :\\n{F.numpy()}')"
   ]
  },
  {
   "cell_type": "markdown",
   "id": "bc644d9e-ecb1-4977-8dfb-655c61f7b2d4",
   "metadata": {},
   "source": [
    "Q2. Calculate Transpose of Matrix F and store in Matrix G"
   ]
  },
  {
   "cell_type": "code",
   "execution_count": 28,
   "id": "5ac7fa0c-9211-49f8-bccb-39b0161a76c8",
   "metadata": {},
   "outputs": [
    {
     "name": "stdout",
     "output_type": "stream",
     "text": [
      "Matrix G :\n",
      "[[0.7161889  0.23425353 0.5132922 ]\n",
      " [0.9685426  0.46993876 0.14257002]\n",
      " [0.65072393 0.67918766 0.5605091 ]]\n"
     ]
    }
   ],
   "source": [
    "# Transpose the F matrix\n",
    "G = tf.transpose(F)\n",
    "\n",
    "# Print the matrix\n",
    "print(f'Matrix G :\\n{G.numpy()}')"
   ]
  },
  {
   "cell_type": "markdown",
   "id": "1d9ac84b-a7c7-45b3-ae81-354a03333e68",
   "metadata": {},
   "source": [
    "Q3. Calculate element wise exponential of Matrix F and store the result in matrix H"
   ]
  },
  {
   "cell_type": "code",
   "execution_count": 29,
   "id": "912a6c11-dadf-40dc-9710-5e98af65e918",
   "metadata": {},
   "outputs": [
    {
     "name": "stdout",
     "output_type": "stream",
     "text": [
      "Matrix H :\n",
      "[[2.0466185 2.6341026 1.916928 ]\n",
      " [1.2639649 1.5998962 1.9722749]\n",
      " [1.6707827 1.1532338 1.751564 ]]\n"
     ]
    }
   ],
   "source": [
    "# Element wise exponent\n",
    "H = tf.math.exp(F)\n",
    "\n",
    "# Print matrix H\n",
    "print(f'Matrix H :\\n{H.numpy()}')"
   ]
  },
  {
   "cell_type": "markdown",
   "id": "61bf0931-0f61-4a54-b00f-b13b1d0b96ed",
   "metadata": {},
   "source": [
    "Q4. Create a matrix I by concatenating Matrix F and matrix G horizontally"
   ]
  },
  {
   "cell_type": "code",
   "execution_count": 30,
   "id": "28a3d4f6-c92d-4f23-8984-24812bc4fbea",
   "metadata": {},
   "outputs": [
    {
     "name": "stdout",
     "output_type": "stream",
     "text": [
      "Matrix F:\n",
      "[[0.7161889  0.9685426  0.65072393]\n",
      " [0.23425353 0.46993876 0.67918766]\n",
      " [0.5132922  0.14257002 0.5605091 ]]\n",
      "\n",
      "Matrix G:\n",
      "[[0.7161889  0.23425353 0.5132922 ]\n",
      " [0.9685426  0.46993876 0.14257002]\n",
      " [0.65072393 0.67918766 0.5605091 ]]\n",
      "\n",
      "Matrix I (Concatenated Horizontally):\n",
      "[[0.7161889  0.9685426  0.65072393 0.7161889  0.23425353 0.5132922 ]\n",
      " [0.23425353 0.46993876 0.67918766 0.9685426  0.46993876 0.14257002]\n",
      " [0.5132922  0.14257002 0.5605091  0.65072393 0.67918766 0.5605091 ]]\n"
     ]
    }
   ],
   "source": [
    "# Concatenate matrices F and G horizontally to create matrix I\n",
    "I = tf.concat([F, G], axis=1)\n",
    "\n",
    "# Display the original matrices and the concatenated matrix\n",
    "print(\"Matrix F:\")\n",
    "print(F.numpy())\n",
    "\n",
    "print(\"\\nMatrix G:\")\n",
    "print(G.numpy())\n",
    "\n",
    "print(\"\\nMatrix I (Concatenated Horizontally):\")\n",
    "print(I.numpy())"
   ]
  },
  {
   "cell_type": "markdown",
   "id": "63e7d077-9030-46ff-aae9-8dc7b2497cbd",
   "metadata": {},
   "source": [
    "Q5. Create a matrix J by concatenating matrix F and matrix H vertically "
   ]
  },
  {
   "cell_type": "code",
   "execution_count": 31,
   "id": "31fedb8c-5d9a-4711-9713-e9dbc2c95bda",
   "metadata": {},
   "outputs": [
    {
     "name": "stdout",
     "output_type": "stream",
     "text": [
      "Matrix F:\n",
      "[[0.7161889  0.9685426  0.65072393]\n",
      " [0.23425353 0.46993876 0.67918766]\n",
      " [0.5132922  0.14257002 0.5605091 ]]\n",
      "\n",
      "Matrix H:\n",
      "[[2.0466185 2.6341026 1.916928 ]\n",
      " [1.2639649 1.5998962 1.9722749]\n",
      " [1.6707827 1.1532338 1.751564 ]]\n",
      "\n",
      "Matrix J (Concatenated Vertically):\n",
      "[[0.7161889  0.9685426  0.65072393]\n",
      " [0.23425353 0.46993876 0.67918766]\n",
      " [0.5132922  0.14257002 0.5605091 ]\n",
      " [2.0466185  2.6341026  1.916928  ]\n",
      " [1.2639649  1.5998962  1.9722749 ]\n",
      " [1.6707827  1.1532338  1.751564  ]]\n"
     ]
    }
   ],
   "source": [
    "# Concatenate matrices F and H vertically to create matrix J\n",
    "J = tf.concat([F, H], axis=0)\n",
    "\n",
    "# Display the original matrices and the concatenated matrix\n",
    "print(\"Matrix F:\")\n",
    "print(F.numpy())\n",
    "\n",
    "print(\"\\nMatrix H:\")\n",
    "print(H.numpy())\n",
    "\n",
    "print(\"\\nMatrix J (Concatenated Vertically):\")\n",
    "print(J.numpy())"
   ]
  },
  {
   "cell_type": "code",
   "execution_count": null,
   "id": "88df5be2-619e-4c33-95e0-a5bfc69f2926",
   "metadata": {},
   "outputs": [],
   "source": []
  }
 ],
 "metadata": {
  "kernelspec": {
   "display_name": "Python 3 (ipykernel)",
   "language": "python",
   "name": "python3"
  },
  "language_info": {
   "codemirror_mode": {
    "name": "ipython",
    "version": 3
   },
   "file_extension": ".py",
   "mimetype": "text/x-python",
   "name": "python",
   "nbconvert_exporter": "python",
   "pygments_lexer": "ipython3",
   "version": "3.11.7"
  }
 },
 "nbformat": 4,
 "nbformat_minor": 5
}
